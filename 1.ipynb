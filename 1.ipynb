{
 "cells": [
  {
   "cell_type": "code",
   "execution_count": 1,
   "id": "84454cd7-f939-4cbb-a45e-79b407449297",
   "metadata": {},
   "outputs": [
    {
     "name": "stdout",
     "output_type": "stream",
     "text": [
      "The first person to set foot on the moon was Neil Armstrong. He stepped out of the lunar module Eagle onto the moon's surface on July 20, 1969, during the Apollo 11 mission.\n",
      "\n",
      "Armstrong famously declared, \"That's one small step for man, one giant leap for mankind,\" as he became the first human to walk on the moon.\n",
      "\n",
      "Armstrong was followed by fellow astronaut Edwin \"Buzz\" Aldrin, who also walked on the moon during the mission. Michael Collins remained in orbit around the moon in the command module Columbia.\n",
      "\n",
      "Armstrong's historic moonwalk lasted about two and a half hours, during which he and Aldrin collected samples and conducted experiments. Their mission marked a major milestone in space exploration and paved the way for future human spaceflight.\n"
     ]
    }
   ],
   "source": [
    "from langchain_groq import ChatGroq\n",
    "import os\n",
    "\n",
    "llm = ChatGroq(\n",
    "    temperature=0,\n",
    "    groq_api_key=\"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\",\n",
    "    model_name=\"llama3-70b-8192\" \n",
    ")\n",
    "\n",
    "response = llm.invoke(\"Who was the first person on the moon?\")\n",
    "print(response.content)\n"
   ]
  },
  {
   "cell_type": "code",
   "execution_count": null,
   "id": "3b8571bc-6326-43f9-b219-a625200d9d63",
   "metadata": {},
   "outputs": [],
   "source": []
  }
 ],
 "metadata": {
  "kernelspec": {
   "display_name": "Python 3 (ipykernel)",
   "language": "python",
   "name": "python3"
  },
  "language_info": {
   "codemirror_mode": {
    "name": "ipython",
    "version": 3
   },
   "file_extension": ".py",
   "mimetype": "text/x-python",
   "name": "python",
   "nbconvert_exporter": "python",
   "pygments_lexer": "ipython3",
   "version": "3.10.16"
  }
 },
 "nbformat": 4,
 "nbformat_minor": 5
}
